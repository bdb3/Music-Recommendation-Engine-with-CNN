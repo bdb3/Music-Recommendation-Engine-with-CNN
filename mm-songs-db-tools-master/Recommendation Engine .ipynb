{
 "cells": [
  {
   "cell_type": "code",
   "execution_count": 15,
   "metadata": {},
   "outputs": [
    {
     "name": "stdout",
     "output_type": "stream",
     "text": [
      "Welcome to the Million Song Database Recommendation Engine (MSDRE). Enter the title of a song you would like recommendations for. i.e. Bodak Yellow: Vordhosbn\n",
      "Enter the name of the artist i.e. Cardi B: Aphex Twin\n"
     ]
    }
   ],
   "source": [
    "songTitle = input('Welcome to the Million Song Database Recommendation Engine (MSDRE). Enter the title of a song you would like recommendations for. i.e. Bodak Yellow: ')\n",
    "artist = input('Enter the name of the artist i.e. Cardi B: ')"
   ]
  },
  {
   "cell_type": "code",
   "execution_count": 16,
   "metadata": {},
   "outputs": [],
   "source": [
    "import spotipy\n",
    "import json\n",
    "from spotipy.oauth2 import SpotifyClientCredentials\n",
    "\n",
    "client_credentials_manager = SpotifyClientCredentials(client_id = \"782cc49959664a40886e2583e1c0d429\", client_secret = \"446c0a76446f4f4f855e8e8337400328\")\n",
    "sp = spotipy.Spotify(client_credentials_manager=client_credentials_manager)\n",
    "results = sp.search(q= \"artist:\" + artist + \" track:\" + songTitle, type=\"track\", offset = 0)\n",
    "trackId = results['tracks']['items'][0]['id']\n",
    "albumId = results['tracks']['items'][0]['id']\n",
    "aAnal = sp.audio_analysis(trackId)"
   ]
  },
  {
   "cell_type": "code",
   "execution_count": 17,
   "metadata": {},
   "outputs": [],
   "source": [
    "bars_confidence = aAnal['bars'][0]['confidence']\n",
    "bars_start = aAnal['bars'][0]['start']\n",
    "beats_confidence = aAnal['beats'][0]['start']\n",
    "beats_start = aAnal['beats'][0]['start']\n",
    "duration = aAnal['track']['duration']\n",
    "end_of_fade_in = aAnal['track']['end_of_fade_in']\n",
    "key_confidence = aAnal['track']['key_confidence']\n",
    "key = aAnal['track']['key']\n",
    "#latitude \n",
    "#longitude - both not part of Spotify API any longer\n",
    "loudness = aAnal['track']['loudness']\n",
    "mode = aAnal['track']['mode']\n",
    "mode_confidence = aAnal['track']['mode_confidence']\n",
    "start_of_fade_out = aAnal['track']['start_of_fade_out']\n",
    "tatums_confidence = aAnal['tatums'][0]['confidence']\n",
    "tatums_start = aAnal['tatums'][0]['start']\n",
    "tempo = aAnal['track']['tempo']\n",
    "time_signature = aAnal['track']['time_signature']\n",
    "time_signature_confidence = aAnal['track']['time_signature_confidence']\n",
    "year = results['tracks']['items'][0]['album']['release_date'][:4]"
   ]
  },
  {
   "cell_type": "code",
   "execution_count": null,
   "metadata": {
    "collapsed": true
   },
   "outputs": [],
   "source": []
  },
  {
   "cell_type": "code",
   "execution_count": null,
   "metadata": {
    "collapsed": true
   },
   "outputs": [],
   "source": []
  },
  {
   "cell_type": "code",
   "execution_count": 18,
   "metadata": {},
   "outputs": [
    {
     "data": {
      "text/plain": [
       "MLPClassifier(activation='logistic', alpha=1e-05, batch_size='auto',\n",
       "       beta_1=0.9, beta_2=0.999, early_stopping=False, epsilon=1e-08,\n",
       "       hidden_layer_sizes=(80,), learning_rate='constant',\n",
       "       learning_rate_init=0.002, max_iter=200, momentum=0.9,\n",
       "       nesterovs_momentum=True, power_t=0.5, random_state=1, shuffle=True,\n",
       "       solver='adam', tol=0.0001, validation_fraction=0.1, verbose=False,\n",
       "       warm_start=False)"
      ]
     },
     "execution_count": 18,
     "metadata": {},
     "output_type": "execute_result"
    }
   ],
   "source": [
    "import pandas as pd\n",
    "df = pd.read_csv(r'C:\\Users\\Danny\\Documents\\spring18\\DataScience\\FinalProject\\1000clusters.csv')\n",
    "df = df.fillna(df.mean())\n",
    "columnNames = ['bars_confidence','bars_start','beats_confidence','beats_start','duration','end_of_fade_in','key_confidence','key','loudness','mode','mode_confidence','start_of_fade_out','tatums_confidence','tatums_start','tempo','time_signature','time_signature_confidence','year']\n",
    "y = df['clusters']\n",
    "x= df[columnNames]\n",
    "from sklearn.neural_network import MLPClassifier\n",
    "from sklearn import metrics\n",
    "my_ANN = MLPClassifier(hidden_layer_sizes=(80,), activation= 'logistic', \n",
    "                       solver='adam', alpha=1e-5, random_state=1, \n",
    "                       learning_rate_init = 0.002)\n",
    "my_ANN.fit(x, y)"
   ]
  },
  {
   "cell_type": "code",
   "execution_count": 19,
   "metadata": {
    "collapsed": true
   },
   "outputs": [],
   "source": [
    "testSong = [bars_confidence,bars_start,beats_confidence,beats_start,duration,end_of_fade_in,key_confidence,key,loudness,mode,mode_confidence,start_of_fade_out,tatums_confidence,tatums_start,tempo,time_signature,time_signature_confidence,year]\n",
    "pred = pd.DataFrame(data=[testSong])\n",
    "pred.columns = ['bars_confidence','bars_start','beats_confidence','beats_start','duration','end_of_fade_in','key_confidence','key','loudness','mode','mode_confidence','start_of_fade_out','tatums_confidence','tatums_start','tempo','time_signature','time_signature_confidence','year']\n",
    "ans = my_ANN.predict(pred)"
   ]
  },
  {
   "cell_type": "code",
   "execution_count": 20,
   "metadata": {
    "collapsed": true
   },
   "outputs": [],
   "source": [
    "dfCluster = df.loc[df['clusters'] == ans[0]]\n",
    "artistId = results['tracks']['items'][0]['artists'][0]['id']\n"
   ]
  },
  {
   "cell_type": "code",
   "execution_count": 21,
   "metadata": {
    "collapsed": true
   },
   "outputs": [],
   "source": [
    "genres = sp.artist(artistId)['genres']"
   ]
  },
  {
   "cell_type": "code",
   "execution_count": 22,
   "metadata": {},
   "outputs": [
    {
     "name": "stderr",
     "output_type": "stream",
     "text": [
      "C:\\Users\\Danny\\Anaconda3\\lib\\site-packages\\ipykernel_launcher.py:2: SettingWithCopyWarning: \n",
      "A value is trying to be set on a copy of a slice from a DataFrame.\n",
      "Try using .loc[row_indexer,col_indexer] = value instead\n",
      "\n",
      "See the caveats in the documentation: http://pandas.pydata.org/pandas-docs/stable/indexing.html#indexing-view-versus-copy\n",
      "  \n"
     ]
    }
   ],
   "source": [
    "dfnew = dfCluster[['song.id','terms']]\n",
    "dfnew['votes'] = 0"
   ]
  },
  {
   "cell_type": "code",
   "execution_count": 23,
   "metadata": {
    "collapsed": true
   },
   "outputs": [],
   "source": [
    "taglist = genres[0].split()\n",
    "for i in range(1, len(genres)):\n",
    "    taglist = taglist + genres[i].split()"
   ]
  },
  {
   "cell_type": "code",
   "execution_count": 24,
   "metadata": {
    "collapsed": true
   },
   "outputs": [],
   "source": [
    "indices = dfnew.index.values\n",
    "for i in range(len(dfnew)):\n",
    "    term = dfnew.iloc[i]['terms']\n",
    "    compare = term.split()\n",
    "    for j in range(len(compare)):\n",
    "        for k in range(len(taglist)):\n",
    "            if(compare[j]==taglist[k]):\n",
    "                dfnew.at[indices[i], 'votes'] = dfnew.iloc[i]['votes'] + 1"
   ]
  },
  {
   "cell_type": "code",
   "execution_count": 25,
   "metadata": {
    "collapsed": true
   },
   "outputs": [],
   "source": [
    "maxVotes = 0\n",
    "for i in range(len(dfnew)):\n",
    "    if (dfnew.iloc[i]['votes'] > maxVotes):\n",
    "        maxVotes = dfnew.iloc[i]['votes']\n",
    "reccs = []\n",
    "for i in range(len(dfnew)):\n",
    "    if (dfnew.iloc[i]['votes'] == maxVotes):\n",
    "        reccs.append(dfnew.iloc[i]['song.id'])\n",
    "        "
   ]
  },
  {
   "cell_type": "code",
   "execution_count": 26,
   "metadata": {},
   "outputs": [
    {
     "name": "stdout",
     "output_type": "stream",
     "text": [
      "1283    Prayer For The Dying (Live In Paris)\n",
      "Name: title, dtype: object\n",
      "1283    Seal\n",
      "Name: artist.name, dtype: object\n",
      "2874    Still Love Remains (Album Version)\n",
      "Name: title, dtype: object\n",
      "2874    Seal\n",
      "Name: artist.name, dtype: object\n"
     ]
    }
   ],
   "source": [
    "for i in range(len(reccs)):\n",
    "    dfAns = df.loc[df['song.id'] == reccs[i]]\n",
    "    print(dfAns['title'])\n",
    "    print(dfAns['artist.name'])"
   ]
  },
  {
   "cell_type": "code",
   "execution_count": 27,
   "metadata": {},
   "outputs": [
    {
     "data": {
      "text/html": [
       "<div>\n",
       "<style>\n",
       "    .dataframe thead tr:only-child th {\n",
       "        text-align: right;\n",
       "    }\n",
       "\n",
       "    .dataframe thead th {\n",
       "        text-align: left;\n",
       "    }\n",
       "\n",
       "    .dataframe tbody tr th {\n",
       "        vertical-align: top;\n",
       "    }\n",
       "</style>\n",
       "<table border=\"1\" class=\"dataframe\">\n",
       "  <thead>\n",
       "    <tr style=\"text-align: right;\">\n",
       "      <th></th>\n",
       "      <th>song.id</th>\n",
       "      <th>terms</th>\n",
       "      <th>votes</th>\n",
       "    </tr>\n",
       "  </thead>\n",
       "  <tbody>\n",
       "    <tr>\n",
       "      <th>467</th>\n",
       "      <td>SOWODCW12A58A7AB81</td>\n",
       "      <td>death core</td>\n",
       "      <td>0</td>\n",
       "    </tr>\n",
       "    <tr>\n",
       "      <th>1027</th>\n",
       "      <td>SOKODRA12A8C13B4B5</td>\n",
       "      <td>folk rock</td>\n",
       "      <td>0</td>\n",
       "    </tr>\n",
       "    <tr>\n",
       "      <th>1283</th>\n",
       "      <td>SORLVXI12A8AE45E37</td>\n",
       "      <td>dance pop</td>\n",
       "      <td>1</td>\n",
       "    </tr>\n",
       "    <tr>\n",
       "      <th>1398</th>\n",
       "      <td>SOGRIWH12A8C1318AD</td>\n",
       "      <td>samba</td>\n",
       "      <td>0</td>\n",
       "    </tr>\n",
       "    <tr>\n",
       "      <th>1875</th>\n",
       "      <td>SOEXRTB12A8C139A38</td>\n",
       "      <td>ccm</td>\n",
       "      <td>0</td>\n",
       "    </tr>\n",
       "    <tr>\n",
       "      <th>1969</th>\n",
       "      <td>SOZSKYN12A8C13A883</td>\n",
       "      <td>country</td>\n",
       "      <td>0</td>\n",
       "    </tr>\n",
       "    <tr>\n",
       "      <th>2264</th>\n",
       "      <td>SOKQYBC12AB0183C87</td>\n",
       "      <td>blue-eyed soul</td>\n",
       "      <td>0</td>\n",
       "    </tr>\n",
       "    <tr>\n",
       "      <th>2348</th>\n",
       "      <td>SOWZREF12A8C13810B</td>\n",
       "      <td>instrumental rock</td>\n",
       "      <td>0</td>\n",
       "    </tr>\n",
       "    <tr>\n",
       "      <th>2391</th>\n",
       "      <td>SONCYFS12A8C14261E</td>\n",
       "      <td>viking metal</td>\n",
       "      <td>0</td>\n",
       "    </tr>\n",
       "    <tr>\n",
       "      <th>2545</th>\n",
       "      <td>SOXECRP12AB017EADA</td>\n",
       "      <td>urban</td>\n",
       "      <td>0</td>\n",
       "    </tr>\n",
       "    <tr>\n",
       "      <th>2734</th>\n",
       "      <td>SOKJUPL12A6D4F8383</td>\n",
       "      <td>pop rock</td>\n",
       "      <td>0</td>\n",
       "    </tr>\n",
       "    <tr>\n",
       "      <th>2874</th>\n",
       "      <td>SOQMMLD12AB017F3CC</td>\n",
       "      <td>dance pop</td>\n",
       "      <td>1</td>\n",
       "    </tr>\n",
       "    <tr>\n",
       "      <th>3025</th>\n",
       "      <td>SOHUDTL12AAFF43497</td>\n",
       "      <td>sludge metal</td>\n",
       "      <td>0</td>\n",
       "    </tr>\n",
       "    <tr>\n",
       "      <th>3586</th>\n",
       "      <td>SONUOCM12A8C141FF0</td>\n",
       "      <td>progressive metal</td>\n",
       "      <td>0</td>\n",
       "    </tr>\n",
       "    <tr>\n",
       "      <th>6757</th>\n",
       "      <td>SOBYGMR12A8C136231</td>\n",
       "      <td>gospel</td>\n",
       "      <td>0</td>\n",
       "    </tr>\n",
       "    <tr>\n",
       "      <th>6788</th>\n",
       "      <td>SOAZQKU12AB0185DF3</td>\n",
       "      <td>ballad</td>\n",
       "      <td>0</td>\n",
       "    </tr>\n",
       "    <tr>\n",
       "      <th>7099</th>\n",
       "      <td>SOLTZIT12A58A7B9BC</td>\n",
       "      <td>post-grunge</td>\n",
       "      <td>0</td>\n",
       "    </tr>\n",
       "    <tr>\n",
       "      <th>7633</th>\n",
       "      <td>SOJCRRD12A58A7D438</td>\n",
       "      <td>latin</td>\n",
       "      <td>0</td>\n",
       "    </tr>\n",
       "    <tr>\n",
       "      <th>7796</th>\n",
       "      <td>SOVLSST12AB01838C2</td>\n",
       "      <td>folk rock</td>\n",
       "      <td>0</td>\n",
       "    </tr>\n",
       "    <tr>\n",
       "      <th>8104</th>\n",
       "      <td>SOQJLFV12AB01897C7</td>\n",
       "      <td>gangster rap</td>\n",
       "      <td>0</td>\n",
       "    </tr>\n",
       "  </tbody>\n",
       "</table>\n",
       "</div>"
      ],
      "text/plain": [
       "                 song.id              terms  votes\n",
       "467   SOWODCW12A58A7AB81         death core      0\n",
       "1027  SOKODRA12A8C13B4B5          folk rock      0\n",
       "1283  SORLVXI12A8AE45E37          dance pop      1\n",
       "1398  SOGRIWH12A8C1318AD              samba      0\n",
       "1875  SOEXRTB12A8C139A38                ccm      0\n",
       "1969  SOZSKYN12A8C13A883            country      0\n",
       "2264  SOKQYBC12AB0183C87     blue-eyed soul      0\n",
       "2348  SOWZREF12A8C13810B  instrumental rock      0\n",
       "2391  SONCYFS12A8C14261E       viking metal      0\n",
       "2545  SOXECRP12AB017EADA              urban      0\n",
       "2734  SOKJUPL12A6D4F8383           pop rock      0\n",
       "2874  SOQMMLD12AB017F3CC          dance pop      1\n",
       "3025  SOHUDTL12AAFF43497       sludge metal      0\n",
       "3586  SONUOCM12A8C141FF0  progressive metal      0\n",
       "6757  SOBYGMR12A8C136231             gospel      0\n",
       "6788  SOAZQKU12AB0185DF3             ballad      0\n",
       "7099  SOLTZIT12A58A7B9BC        post-grunge      0\n",
       "7633  SOJCRRD12A58A7D438              latin      0\n",
       "7796  SOVLSST12AB01838C2          folk rock      0\n",
       "8104  SOQJLFV12AB01897C7       gangster rap      0"
      ]
     },
     "execution_count": 27,
     "metadata": {},
     "output_type": "execute_result"
    }
   ],
   "source": [
    "dfnew"
   ]
  },
  {
   "cell_type": "code",
   "execution_count": 28,
   "metadata": {},
   "outputs": [
    {
     "data": {
      "text/plain": [
       "['acid',\n",
       " 'techno',\n",
       " 'ambient',\n",
       " 'electronic',\n",
       " 'fourth',\n",
       " 'world',\n",
       " 'intelligent',\n",
       " 'dance',\n",
       " 'music',\n",
       " 'trip',\n",
       " 'hop']"
      ]
     },
     "execution_count": 28,
     "metadata": {},
     "output_type": "execute_result"
    }
   ],
   "source": [
    "taglist"
   ]
  },
  {
   "cell_type": "code",
   "execution_count": null,
   "metadata": {
    "collapsed": true
   },
   "outputs": [],
   "source": []
  },
  {
   "cell_type": "code",
   "execution_count": null,
   "metadata": {
    "collapsed": true
   },
   "outputs": [],
   "source": []
  }
 ],
 "metadata": {
  "kernelspec": {
   "display_name": "Python 3",
   "language": "python",
   "name": "python3"
  },
  "language_info": {
   "codemirror_mode": {
    "name": "ipython",
    "version": 3
   },
   "file_extension": ".py",
   "mimetype": "text/x-python",
   "name": "python",
   "nbconvert_exporter": "python",
   "pygments_lexer": "ipython3",
   "version": "3.6.1"
  }
 },
 "nbformat": 4,
 "nbformat_minor": 2
}
